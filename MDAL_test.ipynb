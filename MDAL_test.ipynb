{
 "cells": [
  {
   "cell_type": "code",
   "execution_count": 1,
   "metadata": {},
   "outputs": [
    {
     "ename": "AttributeError",
     "evalue": "module 'dataclient' has no attribute 'MDALClient'",
     "output_type": "error",
     "traceback": [
      "\u001b[0;31m---------------------------------------------------------------------------\u001b[0m",
      "\u001b[0;31mAttributeError\u001b[0m                            Traceback (most recent call last)",
      "\u001b[0;32m<ipython-input-1-14a78760473b>\u001b[0m in \u001b[0;36m<module>\u001b[0;34m()\u001b[0m\n\u001b[1;32m      1\u001b[0m \u001b[0;32mimport\u001b[0m \u001b[0mdataclient\u001b[0m\u001b[0;34m\u001b[0m\u001b[0m\n\u001b[0;32m----> 2\u001b[0;31m \u001b[0mm\u001b[0m \u001b[0;34m=\u001b[0m \u001b[0mdataclient\u001b[0m\u001b[0;34m.\u001b[0m\u001b[0mMDALClient\u001b[0m\u001b[0;34m(\u001b[0m\u001b[0;34m\"corbusier.cs.berkeley.edu:8088\"\u001b[0m\u001b[0;34m)\u001b[0m\u001b[0;34m\u001b[0m\u001b[0m\n\u001b[0m\u001b[1;32m      3\u001b[0m \u001b[0;34m\u001b[0m\u001b[0m\n\u001b[1;32m      4\u001b[0m request = {\n\u001b[1;32m      5\u001b[0m     \u001b[0;34m\"Composition\"\u001b[0m\u001b[0;34m:\u001b[0m \u001b[0;34m[\u001b[0m\u001b[0;34m\"temp\"\u001b[0m\u001b[0;34m]\u001b[0m\u001b[0;34m,\u001b[0m\u001b[0;34m\u001b[0m\u001b[0m\n",
      "\u001b[0;31mAttributeError\u001b[0m: module 'dataclient' has no attribute 'MDALClient'"
     ]
    }
   ],
   "source": [
    "import dataclient\n",
    "m = dataclient.MDALClient(\"corbusier.cs.berkeley.edu:8088\")\n",
    "\n",
    "request = {\n",
    "    \"Composition\": [\"temp\"],\n",
    "    \"Aggregation\": {\n",
    "        \"meter\": [\"MEAN\"],\n",
    "        \"temp\": [\"MEAN\"],\n",
    "    },\n",
    "    \"Variables\": {\n",
    "        \"meter\": {\n",
    "            \"Definition\": \"\"\"SELECT ?meter ?meter_uuid WHERE {\n",
    "                ?meter rdf:type brick:Building_Electric_Meter .\n",
    "                ?meter bf:uuid ?meter_uuid\n",
    "            };\"\"\" ,\n",
    "        },\n",
    "        \"temp\": {\n",
    "            \"Definition\": \"\"\"SELECT ?t ?t_uuid FROM ciee WHERE {\n",
    "                ?t rdf:type/rdfs:subClassOf* brick:Temperature_Sensor .\n",
    "                ?t bf:uuid ?t_uuid\n",
    "            };\"\"\" ,\n",
    "        },\n",
    "    },\n",
    "    \"Time\": {\n",
    "        \"Start\":  \"2018-01-01T10:00:00-07:00\",\n",
    "        \"End\":  \"2018-08-12T10:00:00-07:00\",\n",
    "        \"Window\": '5min',\n",
    "        \"Aligned\": True,\n",
    "    },\n",
    "}\n",
    "\n",
    "resp = m.query(request)\n",
    "print(resp.df)"
   ]
  },
  {
   "cell_type": "code",
   "execution_count": null,
   "metadata": {},
   "outputs": [],
   "source": []
  }
 ],
 "metadata": {
  "kernelspec": {
   "display_name": "mortar",
   "language": "python",
   "name": "mortar"
  },
  "language_info": {
   "codemirror_mode": {
    "name": "ipython",
    "version": 3
   },
   "file_extension": ".py",
   "mimetype": "text/x-python",
   "name": "python",
   "nbconvert_exporter": "python",
   "pygments_lexer": "ipython3",
   "version": "3.7.0"
  }
 },
 "nbformat": 4,
 "nbformat_minor": 2
}
